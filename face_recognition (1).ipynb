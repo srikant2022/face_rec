{
  "nbformat": 4,
  "nbformat_minor": 0,
  "metadata": {
    "colab": {
      "name": "face recognition.ipynb",
      "provenance": [],
      "collapsed_sections": []
    },
    "kernelspec": {
      "name": "python3",
      "display_name": "Python 3"
    }
  },
  "cells": [
    {
      "metadata": {
        "id": "PpufwT3BNXLR"
      },
      "cell_type": "markdown",
      "source": [
        "# Face recognition\n",
        "\n",
        "https://github.com/ageitgey/face_recognition"
      ]
    },
    {
      "metadata": {
        "id": "YHR7-mDA6vSO",
        "outputId": "a5dfdecf-26ba-46d2-9875-653f8fc11f94",
        "colab": {
          "base_uri": "https://localhost:8080/"
        }
      },
      "cell_type": "code",
      "source": [
        "!pip3 install face_recognition"
      ],
      "execution_count": 4,
      "outputs": [
        {
          "output_type": "stream",
          "name": "stdout",
          "text": [
            "Looking in indexes: https://pypi.org/simple, https://us-python.pkg.dev/colab-wheels/public/simple/\n",
            "Requirement already satisfied: face_recognition in /usr/local/lib/python3.7/dist-packages (1.3.0)\n",
            "Requirement already satisfied: Pillow in /usr/local/lib/python3.7/dist-packages (from face_recognition) (7.1.2)\n",
            "Requirement already satisfied: numpy in /usr/local/lib/python3.7/dist-packages (from face_recognition) (1.21.6)\n",
            "Requirement already satisfied: Click>=6.0 in /usr/local/lib/python3.7/dist-packages (from face_recognition) (7.1.2)\n",
            "Requirement already satisfied: dlib>=19.7 in /usr/local/lib/python3.7/dist-packages (from face_recognition) (19.24.0)\n",
            "Requirement already satisfied: face-recognition-models>=0.3.0 in /usr/local/lib/python3.7/dist-packages (from face_recognition) (0.3.0)\n"
          ]
        }
      ]
    },
    {
      "metadata": {
        "id": "t_0rq2kzOGNs"
      },
      "cell_type": "markdown",
      "source": [
        "Make known and unknown directories"
      ]
    },
    {
      "metadata": {
        "id": "GPVvOAMBOFqs",
        "colab": {
          "base_uri": "https://localhost:8080/"
        },
        "outputId": "04b2fe1a-86ec-4248-e6df-c519bb6e1e99"
      },
      "cell_type": "code",
      "source": [
        "!mkdir known unknown"
      ],
      "execution_count": 2,
      "outputs": [
        {
          "output_type": "stream",
          "name": "stdout",
          "text": [
            "mkdir: cannot create directory ‘known’: File exists\n",
            "mkdir: cannot create directory ‘unknown’: File exists\n"
          ]
        }
      ]
    },
    {
      "metadata": {
        "id": "xxAjnlisOJ0q"
      },
      "cell_type": "markdown",
      "source": [
        "Now upload your images (left click on files, import into the right folders)\n",
        "\n",
        "* Base models in known with name as file name\n",
        "* Pictures of these people in unknown"
      ]
    },
    {
      "metadata": {
        "id": "H6RHZ67K_Apr",
        "colab": {
          "base_uri": "https://localhost:8080/",
          "height": 373
        },
        "outputId": "e3f3c3b6-6703-456d-9714-f5ad251b0a99"
      },
      "cell_type": "code",
      "source": [
        "from PIL import Image, ImageDraw\n",
        "import face_recognition\n",
        "from matplotlib import pyplot as plt\n",
        "import matplotlib.image as mpimg\n",
        "import face_recognition"
      ],
      "execution_count": 1,
      "outputs": [
        {
          "output_type": "error",
          "ename": "ModuleNotFoundError",
          "evalue": "ignored",
          "traceback": [
            "\u001b[0;31m---------------------------------------------------------------------------\u001b[0m",
            "\u001b[0;31mModuleNotFoundError\u001b[0m                       Traceback (most recent call last)",
            "\u001b[0;32m<ipython-input-1-1a7b1cb5abb8>\u001b[0m in \u001b[0;36m<module>\u001b[0;34m\u001b[0m\n\u001b[1;32m      1\u001b[0m \u001b[0;32mfrom\u001b[0m \u001b[0mPIL\u001b[0m \u001b[0;32mimport\u001b[0m \u001b[0mImage\u001b[0m\u001b[0;34m,\u001b[0m \u001b[0mImageDraw\u001b[0m\u001b[0;34m\u001b[0m\u001b[0;34m\u001b[0m\u001b[0m\n\u001b[0;32m----> 2\u001b[0;31m \u001b[0;32mimport\u001b[0m \u001b[0mface_recognition\u001b[0m\u001b[0;34m\u001b[0m\u001b[0;34m\u001b[0m\u001b[0m\n\u001b[0m\u001b[1;32m      3\u001b[0m \u001b[0;32mfrom\u001b[0m \u001b[0mmatplotlib\u001b[0m \u001b[0;32mimport\u001b[0m \u001b[0mpyplot\u001b[0m \u001b[0;32mas\u001b[0m \u001b[0mplt\u001b[0m\u001b[0;34m\u001b[0m\u001b[0;34m\u001b[0m\u001b[0m\n\u001b[1;32m      4\u001b[0m \u001b[0;32mimport\u001b[0m \u001b[0mmatplotlib\u001b[0m\u001b[0;34m.\u001b[0m\u001b[0mimage\u001b[0m \u001b[0;32mas\u001b[0m \u001b[0mmpimg\u001b[0m\u001b[0;34m\u001b[0m\u001b[0;34m\u001b[0m\u001b[0m\n\u001b[1;32m      5\u001b[0m \u001b[0;32mimport\u001b[0m \u001b[0mface_recognition\u001b[0m\u001b[0;34m\u001b[0m\u001b[0;34m\u001b[0m\u001b[0m\n",
            "\u001b[0;31mModuleNotFoundError\u001b[0m: No module named 'face_recognition'",
            "",
            "\u001b[0;31m---------------------------------------------------------------------------\u001b[0;32m\nNOTE: If your import is failing due to a missing package, you can\nmanually install dependencies using either !pip or !apt.\n\nTo view examples of installing some common dependencies, click the\n\"Open Examples\" button below.\n\u001b[0;31m---------------------------------------------------------------------------\u001b[0m\n"
          ],
          "errorDetails": {
            "actions": [
              {
                "action": "open_url",
                "actionText": "Open Examples",
                "url": "/notebooks/snippets/importing_libraries.ipynb"
              }
            ]
          }
        }
      ]
    },
    {
      "metadata": {
        "id": "iRmJSNkRQ5dN"
      },
      "cell_type": "code",
      "source": [
        "def draw_rec(url1, url2, url3):\n",
        "  # This is an example of running face recognition on a single image\n",
        "  # and drawing a box around each person that was identified.\n",
        "\n",
        "  # Load a sample picture and learn how to recognize it.\n",
        "  obama_image = face_recognition.load_image_file(url1)\n",
        "  obama_face_encoding = face_recognition.face_encodings(obama_image)[0]\n",
        "\n",
        "  # Load a second sample picture and learn how to recognize it.\n",
        "  biden_image = face_recognition.load_image_file(url2)\n",
        "  biden_face_encoding = face_recognition.face_encodings(biden_image)[0]\n",
        "\n",
        "  # Create arrays of known face encodings and their names\n",
        "  known_face_encodings = [\n",
        "      obama_face_encoding,\n",
        "      biden_face_encoding\n",
        "  ]\n",
        "  known_face_names = [\n",
        "      \"Donald Trump\",\n",
        "      \"Kim\"\n",
        "  ]\n",
        "\n",
        "  # Load an image with an unknown face\n",
        "  unknown_image = face_recognition.load_image_file(url3)\n",
        "\n",
        "  # Find all the faces and face encodings in the unknown image\n",
        "  face_locations = face_recognition.face_locations(unknown_image)\n",
        "  face_encodings = face_recognition.face_encodings(unknown_image, face_locations)\n",
        "\n",
        "  # Convert the image to a PIL-format image so that we can draw on top of it with the Pillow library\n",
        "  # See http://pillow.readthedocs.io/ for more about PIL/Pillow\n",
        "  pil_image = Image.fromarray(unknown_image)\n",
        "  # Create a Pillow ImageDraw Draw instance to draw with\n",
        "  draw = ImageDraw.Draw(pil_image)\n",
        "\n",
        "  # Loop through each face found in the unknown image\n",
        "  for (top, right, bottom, left), face_encoding in zip(face_locations, face_encodings):\n",
        "      # See if the face is a match for the known face(s)\n",
        "      matches = face_recognition.compare_faces(known_face_encodings, face_encoding)\n",
        "\n",
        "      name = \"Unknown\"\n",
        "\n",
        "      # If a match was found in known_face_encodings, just use the first one.\n",
        "      if True in matches:\n",
        "          first_match_index = matches.index(True)\n",
        "          name = known_face_names[first_match_index]\n",
        "\n",
        "      # Draw a box around the face using the Pillow module\n",
        "      draw.rectangle(((left, top), (right, bottom)), outline=(0, 0, 255))\n",
        "\n",
        "      # Draw a label with a name below the face\n",
        "      text_width, text_height = draw.textsize(name)\n",
        "      draw.rectangle(((left, bottom - text_height - 10), (right, bottom)), fill=(0, 0, 255), outline=(0, 0, 255))\n",
        "      draw.text((left + 6, bottom - text_height - 5), name, fill=(255, 255, 255, 255))\n",
        "\n",
        "\n",
        "  # Remove the drawing library from memory as per the Pillow docs\n",
        "  del draw\n",
        "\n",
        "  # Display the resulting image\n",
        "  plt.imshow(pil_image, aspect='auto')\n",
        "\n",
        "  # You can also save a copy of the new image to disk if you want by uncommenting this line\n",
        "  # pil_image.save(\"image_with_boxes.jpg\")"
      ],
      "execution_count": null,
      "outputs": []
    },
    {
      "metadata": {
        "id": "0H57ARjlSa97"
      },
      "cell_type": "code",
      "source": [
        "plt.imshow(Image.fromarray(face_recognition.load_image_file(\"/content/unknown/obama-240p.jpg\")), aspect='auto')"
      ],
      "execution_count": null,
      "outputs": []
    },
    {
      "metadata": {
        "id": "Cxkd9rtKR4Gv"
      },
      "cell_type": "code",
      "source": [
        "draw_rec(\"/content/known/biden.jpg\", \"/content/known/obama-240p.jpg\", \"/content/unknown/obama-240p.jpg\")"
      ],
      "execution_count": null,
      "outputs": []
    }
  ]
}